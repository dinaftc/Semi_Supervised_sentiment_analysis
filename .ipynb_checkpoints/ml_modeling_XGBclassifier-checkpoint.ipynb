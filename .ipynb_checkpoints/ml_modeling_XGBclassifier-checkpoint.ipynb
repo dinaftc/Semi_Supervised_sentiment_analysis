{
 "cells": [
  {
   "cell_type": "markdown",
   "id": "c7f22948",
   "metadata": {},
   "source": [
    "# XBGclassifier"
   ]
  },
  {
   "cell_type": "code",
   "execution_count": 17,
   "id": "d59225fd",
   "metadata": {},
   "outputs": [],
   "source": [
    "from xgboost import XGBClassifier\n",
    "#from imblearn.over_sampling import SMOTE\n",
    "import pandas as pd \n",
    "import numpy as np\n",
    "from sklearn.metrics import accuracy_score, confusion_matrix, classification_report, precision_score, recall_score, f1_score\n",
    "from sklearn.semi_supervised import SelfTrainingClassifier\n",
    "from sklearn.feature_extraction.text import TfidfVectorizer\n",
    "from sklearn.model_selection import train_test_split\n",
    "from sklearn.pipeline import Pipeline\n",
    "from sklearn.metrics import confusion_matrix\n",
    "import matplotlib.pyplot as plt"
   ]
  },
  {
   "cell_type": "code",
   "execution_count": 18,
   "id": "9d8a8d4f",
   "metadata": {},
   "outputs": [
    {
     "data": {
      "text/html": [
       "<div>\n",
       "<style scoped>\n",
       "    .dataframe tbody tr th:only-of-type {\n",
       "        vertical-align: middle;\n",
       "    }\n",
       "\n",
       "    .dataframe tbody tr th {\n",
       "        vertical-align: top;\n",
       "    }\n",
       "\n",
       "    .dataframe thead th {\n",
       "        text-align: right;\n",
       "    }\n",
       "</style>\n",
       "<table border=\"1\" class=\"dataframe\">\n",
       "  <thead>\n",
       "    <tr style=\"text-align: right;\">\n",
       "      <th></th>\n",
       "      <th>cleaned_text</th>\n",
       "      <th>sentiment</th>\n",
       "    </tr>\n",
       "  </thead>\n",
       "  <tbody>\n",
       "    <tr>\n",
       "      <th>0</th>\n",
       "      <td>what said</td>\n",
       "      <td>neutral</td>\n",
       "    </tr>\n",
       "    <tr>\n",
       "      <th>1</th>\n",
       "      <td>plus youve added commercials to the experience...</td>\n",
       "      <td>NaN</td>\n",
       "    </tr>\n",
       "    <tr>\n",
       "      <th>2</th>\n",
       "      <td>i didnt today must mean i need to take another...</td>\n",
       "      <td>neutral</td>\n",
       "    </tr>\n",
       "    <tr>\n",
       "      <th>3</th>\n",
       "      <td>its really aggressive to blast obnoxious enter...</td>\n",
       "      <td>NaN</td>\n",
       "    </tr>\n",
       "    <tr>\n",
       "      <th>4</th>\n",
       "      <td>and its a really big bad thing about it</td>\n",
       "      <td>negative</td>\n",
       "    </tr>\n",
       "  </tbody>\n",
       "</table>\n",
       "</div>"
      ],
      "text/plain": [
       "                                        cleaned_text sentiment\n",
       "0                                          what said   neutral\n",
       "1  plus youve added commercials to the experience...       NaN\n",
       "2  i didnt today must mean i need to take another...   neutral\n",
       "3  its really aggressive to blast obnoxious enter...       NaN\n",
       "4            and its a really big bad thing about it  negative"
      ]
     },
     "execution_count": 18,
     "metadata": {},
     "output_type": "execute_result"
    }
   ],
   "source": [
    "df1=pd.read_csv('C:/Users/Pc Bridge/Downloads/df4.csv', encoding='ISO-8859-1')\n",
    "df1.head()"
   ]
  },
  {
   "cell_type": "markdown",
   "id": "5f0a4821",
   "metadata": {},
   "source": [
    "## turn unlabled to -1 *rules of selfTrainClassifier"
   ]
  },
  {
   "cell_type": "code",
   "execution_count": 19,
   "id": "336bf34c",
   "metadata": {},
   "outputs": [
    {
     "name": "stdout",
     "output_type": "stream",
     "text": [
      "0\n"
     ]
    }
   ],
   "source": [
    "X = df1[\"cleaned_text\"]\n",
    "y = df1[\"sentiment\"]\n",
    "\n",
    "y[y.isna()] = -1\n",
    "print(y.isna().sum())"
   ]
  },
  {
   "cell_type": "code",
   "execution_count": 20,
   "id": "4ffbe2e3",
   "metadata": {},
   "outputs": [],
   "source": [
    "y = y.map({\n",
    "    -1:-1,\n",
    "    \"negative\":0,\n",
    "    \"neutral\": 1,\n",
    "    \"positive\": 2\n",
    "})"
   ]
  },
  {
   "cell_type": "code",
   "execution_count": 21,
   "id": "f95ec001",
   "metadata": {},
   "outputs": [],
   "source": [
    "X_labeled = X[y != -1]\n",
    "y_labeled = y[y != -1]\n",
    "\n",
    "X_unlabeled = X[y == -1]\n",
    "y_unlabeled = y[y == -1]"
   ]
  },
  {
   "cell_type": "code",
   "execution_count": 22,
   "id": "93509086",
   "metadata": {},
   "outputs": [],
   "source": [
    "X_train,X_test,y_train,y_test = train_test_split(X_labeled,y_labeled,test_size=0.2)\n",
    "X_train = pd.concat([X_train,X_unlabeled])\n",
    "y_train = pd.concat([y_train,y_unlabeled])"
   ]
  },
  {
   "cell_type": "markdown",
   "id": "062c9e15",
   "metadata": {},
   "source": [
    "## Applying XGBclassifier"
   ]
  },
  {
   "cell_type": "code",
   "execution_count": 23,
   "id": "19f00f73",
   "metadata": {},
   "outputs": [],
   "source": [
    "model6 = Pipeline(steps=[\n",
    "    (\"tfidf\", TfidfVectorizer()),\n",
    "    (\"model\", SelfTrainingClassifier(XGBClassifier()))\n",
    "])"
   ]
  },
  {
   "cell_type": "code",
   "execution_count": 24,
   "id": "27b96b9c",
   "metadata": {},
   "outputs": [
    {
     "data": {
      "text/html": [
       "<style>#sk-container-id-2 {color: black;}#sk-container-id-2 pre{padding: 0;}#sk-container-id-2 div.sk-toggleable {background-color: white;}#sk-container-id-2 label.sk-toggleable__label {cursor: pointer;display: block;width: 100%;margin-bottom: 0;padding: 0.3em;box-sizing: border-box;text-align: center;}#sk-container-id-2 label.sk-toggleable__label-arrow:before {content: \"▸\";float: left;margin-right: 0.25em;color: #696969;}#sk-container-id-2 label.sk-toggleable__label-arrow:hover:before {color: black;}#sk-container-id-2 div.sk-estimator:hover label.sk-toggleable__label-arrow:before {color: black;}#sk-container-id-2 div.sk-toggleable__content {max-height: 0;max-width: 0;overflow: hidden;text-align: left;background-color: #f0f8ff;}#sk-container-id-2 div.sk-toggleable__content pre {margin: 0.2em;color: black;border-radius: 0.25em;background-color: #f0f8ff;}#sk-container-id-2 input.sk-toggleable__control:checked~div.sk-toggleable__content {max-height: 200px;max-width: 100%;overflow: auto;}#sk-container-id-2 input.sk-toggleable__control:checked~label.sk-toggleable__label-arrow:before {content: \"▾\";}#sk-container-id-2 div.sk-estimator input.sk-toggleable__control:checked~label.sk-toggleable__label {background-color: #d4ebff;}#sk-container-id-2 div.sk-label input.sk-toggleable__control:checked~label.sk-toggleable__label {background-color: #d4ebff;}#sk-container-id-2 input.sk-hidden--visually {border: 0;clip: rect(1px 1px 1px 1px);clip: rect(1px, 1px, 1px, 1px);height: 1px;margin: -1px;overflow: hidden;padding: 0;position: absolute;width: 1px;}#sk-container-id-2 div.sk-estimator {font-family: monospace;background-color: #f0f8ff;border: 1px dotted black;border-radius: 0.25em;box-sizing: border-box;margin-bottom: 0.5em;}#sk-container-id-2 div.sk-estimator:hover {background-color: #d4ebff;}#sk-container-id-2 div.sk-parallel-item::after {content: \"\";width: 100%;border-bottom: 1px solid gray;flex-grow: 1;}#sk-container-id-2 div.sk-label:hover label.sk-toggleable__label {background-color: #d4ebff;}#sk-container-id-2 div.sk-serial::before {content: \"\";position: absolute;border-left: 1px solid gray;box-sizing: border-box;top: 0;bottom: 0;left: 50%;z-index: 0;}#sk-container-id-2 div.sk-serial {display: flex;flex-direction: column;align-items: center;background-color: white;padding-right: 0.2em;padding-left: 0.2em;position: relative;}#sk-container-id-2 div.sk-item {position: relative;z-index: 1;}#sk-container-id-2 div.sk-parallel {display: flex;align-items: stretch;justify-content: center;background-color: white;position: relative;}#sk-container-id-2 div.sk-item::before, #sk-container-id-2 div.sk-parallel-item::before {content: \"\";position: absolute;border-left: 1px solid gray;box-sizing: border-box;top: 0;bottom: 0;left: 50%;z-index: -1;}#sk-container-id-2 div.sk-parallel-item {display: flex;flex-direction: column;z-index: 1;position: relative;background-color: white;}#sk-container-id-2 div.sk-parallel-item:first-child::after {align-self: flex-end;width: 50%;}#sk-container-id-2 div.sk-parallel-item:last-child::after {align-self: flex-start;width: 50%;}#sk-container-id-2 div.sk-parallel-item:only-child::after {width: 0;}#sk-container-id-2 div.sk-dashed-wrapped {border: 1px dashed gray;margin: 0 0.4em 0.5em 0.4em;box-sizing: border-box;padding-bottom: 0.4em;background-color: white;}#sk-container-id-2 div.sk-label label {font-family: monospace;font-weight: bold;display: inline-block;line-height: 1.2em;}#sk-container-id-2 div.sk-label-container {text-align: center;}#sk-container-id-2 div.sk-container {/* jupyter's `normalize.less` sets `[hidden] { display: none; }` but bootstrap.min.css set `[hidden] { display: none !important; }` so we also need the `!important` here to be able to override the default hidden behavior on the sphinx rendered scikit-learn.org. See: https://github.com/scikit-learn/scikit-learn/issues/21755 */display: inline-block !important;position: relative;}#sk-container-id-2 div.sk-text-repr-fallback {display: none;}</style><div id=\"sk-container-id-2\" class=\"sk-top-container\"><div class=\"sk-text-repr-fallback\"><pre>Pipeline(steps=[(&#x27;tfidf&#x27;, TfidfVectorizer()),\n",
       "                (&#x27;model&#x27;,\n",
       "                 SelfTrainingClassifier(base_estimator=XGBClassifier(base_score=None,\n",
       "                                                                     booster=None,\n",
       "                                                                     callbacks=None,\n",
       "                                                                     colsample_bylevel=None,\n",
       "                                                                     colsample_bynode=None,\n",
       "                                                                     colsample_bytree=None,\n",
       "                                                                     device=None,\n",
       "                                                                     early_stopping_rounds=None,\n",
       "                                                                     enable_categorical=False,\n",
       "                                                                     eval_metric=None,\n",
       "                                                                     feature_types=None,\n",
       "                                                                     gamma=None,\n",
       "                                                                     grow_policy=None,\n",
       "                                                                     importance_type=None,\n",
       "                                                                     interaction_constraints=None,\n",
       "                                                                     learning_rate=None,\n",
       "                                                                     max_bin=None,\n",
       "                                                                     max_cat_threshold=None,\n",
       "                                                                     max_cat_to_onehot=None,\n",
       "                                                                     max_delta_step=None,\n",
       "                                                                     max_depth=None,\n",
       "                                                                     max_leaves=None,\n",
       "                                                                     min_child_weight=None,\n",
       "                                                                     missing=nan,\n",
       "                                                                     monotone_constraints=None,\n",
       "                                                                     multi_strategy=None,\n",
       "                                                                     n_estimators=None,\n",
       "                                                                     n_jobs=None,\n",
       "                                                                     num_parallel_tree=None,\n",
       "                                                                     random_state=None, ...)))])</pre><b>In a Jupyter environment, please rerun this cell to show the HTML representation or trust the notebook. <br />On GitHub, the HTML representation is unable to render, please try loading this page with nbviewer.org.</b></div><div class=\"sk-container\" hidden><div class=\"sk-item sk-dashed-wrapped\"><div class=\"sk-label-container\"><div class=\"sk-label sk-toggleable\"><input class=\"sk-toggleable__control sk-hidden--visually\" id=\"sk-estimator-id-6\" type=\"checkbox\" ><label for=\"sk-estimator-id-6\" class=\"sk-toggleable__label sk-toggleable__label-arrow\">Pipeline</label><div class=\"sk-toggleable__content\"><pre>Pipeline(steps=[(&#x27;tfidf&#x27;, TfidfVectorizer()),\n",
       "                (&#x27;model&#x27;,\n",
       "                 SelfTrainingClassifier(base_estimator=XGBClassifier(base_score=None,\n",
       "                                                                     booster=None,\n",
       "                                                                     callbacks=None,\n",
       "                                                                     colsample_bylevel=None,\n",
       "                                                                     colsample_bynode=None,\n",
       "                                                                     colsample_bytree=None,\n",
       "                                                                     device=None,\n",
       "                                                                     early_stopping_rounds=None,\n",
       "                                                                     enable_categorical=False,\n",
       "                                                                     eval_metric=None,\n",
       "                                                                     feature_types=None,\n",
       "                                                                     gamma=None,\n",
       "                                                                     grow_policy=None,\n",
       "                                                                     importance_type=None,\n",
       "                                                                     interaction_constraints=None,\n",
       "                                                                     learning_rate=None,\n",
       "                                                                     max_bin=None,\n",
       "                                                                     max_cat_threshold=None,\n",
       "                                                                     max_cat_to_onehot=None,\n",
       "                                                                     max_delta_step=None,\n",
       "                                                                     max_depth=None,\n",
       "                                                                     max_leaves=None,\n",
       "                                                                     min_child_weight=None,\n",
       "                                                                     missing=nan,\n",
       "                                                                     monotone_constraints=None,\n",
       "                                                                     multi_strategy=None,\n",
       "                                                                     n_estimators=None,\n",
       "                                                                     n_jobs=None,\n",
       "                                                                     num_parallel_tree=None,\n",
       "                                                                     random_state=None, ...)))])</pre></div></div></div><div class=\"sk-serial\"><div class=\"sk-item\"><div class=\"sk-estimator sk-toggleable\"><input class=\"sk-toggleable__control sk-hidden--visually\" id=\"sk-estimator-id-7\" type=\"checkbox\" ><label for=\"sk-estimator-id-7\" class=\"sk-toggleable__label sk-toggleable__label-arrow\">TfidfVectorizer</label><div class=\"sk-toggleable__content\"><pre>TfidfVectorizer()</pre></div></div></div><div class=\"sk-item sk-dashed-wrapped\"><div class=\"sk-label-container\"><div class=\"sk-label sk-toggleable\"><input class=\"sk-toggleable__control sk-hidden--visually\" id=\"sk-estimator-id-8\" type=\"checkbox\" ><label for=\"sk-estimator-id-8\" class=\"sk-toggleable__label sk-toggleable__label-arrow\">model: SelfTrainingClassifier</label><div class=\"sk-toggleable__content\"><pre>SelfTrainingClassifier(base_estimator=XGBClassifier(base_score=None,\n",
       "                                                    booster=None,\n",
       "                                                    callbacks=None,\n",
       "                                                    colsample_bylevel=None,\n",
       "                                                    colsample_bynode=None,\n",
       "                                                    colsample_bytree=None,\n",
       "                                                    device=None,\n",
       "                                                    early_stopping_rounds=None,\n",
       "                                                    enable_categorical=False,\n",
       "                                                    eval_metric=None,\n",
       "                                                    feature_types=None,\n",
       "                                                    gamma=None,\n",
       "                                                    grow_policy=None,\n",
       "                                                    importance_type=None,\n",
       "                                                    interaction_constraints=None,\n",
       "                                                    learning_rate=None,\n",
       "                                                    max_bin=None,\n",
       "                                                    max_cat_threshold=None,\n",
       "                                                    max_cat_to_onehot=None,\n",
       "                                                    max_delta_step=None,\n",
       "                                                    max_depth=None,\n",
       "                                                    max_leaves=None,\n",
       "                                                    min_child_weight=None,\n",
       "                                                    missing=nan,\n",
       "                                                    monotone_constraints=None,\n",
       "                                                    multi_strategy=None,\n",
       "                                                    n_estimators=None,\n",
       "                                                    n_jobs=None,\n",
       "                                                    num_parallel_tree=None,\n",
       "                                                    random_state=None, ...))</pre></div></div></div><div class=\"sk-parallel\"><div class=\"sk-parallel-item\"><div class=\"sk-item\"><div class=\"sk-label-container\"><div class=\"sk-label sk-toggleable\"><input class=\"sk-toggleable__control sk-hidden--visually\" id=\"sk-estimator-id-9\" type=\"checkbox\" ><label for=\"sk-estimator-id-9\" class=\"sk-toggleable__label sk-toggleable__label-arrow\">base_estimator: XGBClassifier</label><div class=\"sk-toggleable__content\"><pre>XGBClassifier(base_score=None, booster=None, callbacks=None,\n",
       "              colsample_bylevel=None, colsample_bynode=None,\n",
       "              colsample_bytree=None, device=None, early_stopping_rounds=None,\n",
       "              enable_categorical=False, eval_metric=None, feature_types=None,\n",
       "              gamma=None, grow_policy=None, importance_type=None,\n",
       "              interaction_constraints=None, learning_rate=None, max_bin=None,\n",
       "              max_cat_threshold=None, max_cat_to_onehot=None,\n",
       "              max_delta_step=None, max_depth=None, max_leaves=None,\n",
       "              min_child_weight=None, missing=nan, monotone_constraints=None,\n",
       "              multi_strategy=None, n_estimators=None, n_jobs=None,\n",
       "              num_parallel_tree=None, random_state=None, ...)</pre></div></div></div><div class=\"sk-serial\"><div class=\"sk-item\"><div class=\"sk-estimator sk-toggleable\"><input class=\"sk-toggleable__control sk-hidden--visually\" id=\"sk-estimator-id-10\" type=\"checkbox\" ><label for=\"sk-estimator-id-10\" class=\"sk-toggleable__label sk-toggleable__label-arrow\">XGBClassifier</label><div class=\"sk-toggleable__content\"><pre>XGBClassifier(base_score=None, booster=None, callbacks=None,\n",
       "              colsample_bylevel=None, colsample_bynode=None,\n",
       "              colsample_bytree=None, device=None, early_stopping_rounds=None,\n",
       "              enable_categorical=False, eval_metric=None, feature_types=None,\n",
       "              gamma=None, grow_policy=None, importance_type=None,\n",
       "              interaction_constraints=None, learning_rate=None, max_bin=None,\n",
       "              max_cat_threshold=None, max_cat_to_onehot=None,\n",
       "              max_delta_step=None, max_depth=None, max_leaves=None,\n",
       "              min_child_weight=None, missing=nan, monotone_constraints=None,\n",
       "              multi_strategy=None, n_estimators=None, n_jobs=None,\n",
       "              num_parallel_tree=None, random_state=None, ...)</pre></div></div></div></div></div></div></div></div></div></div></div></div>"
      ],
      "text/plain": [
       "Pipeline(steps=[('tfidf', TfidfVectorizer()),\n",
       "                ('model',\n",
       "                 SelfTrainingClassifier(base_estimator=XGBClassifier(base_score=None,\n",
       "                                                                     booster=None,\n",
       "                                                                     callbacks=None,\n",
       "                                                                     colsample_bylevel=None,\n",
       "                                                                     colsample_bynode=None,\n",
       "                                                                     colsample_bytree=None,\n",
       "                                                                     device=None,\n",
       "                                                                     early_stopping_rounds=None,\n",
       "                                                                     enable_categorical=False,\n",
       "                                                                     eval_metric=None,\n",
       "                                                                     feature_types=None,\n",
       "                                                                     gamma=None,\n",
       "                                                                     grow_policy=None,\n",
       "                                                                     importance_type=None,\n",
       "                                                                     interaction_constraints=None,\n",
       "                                                                     learning_rate=None,\n",
       "                                                                     max_bin=None,\n",
       "                                                                     max_cat_threshold=None,\n",
       "                                                                     max_cat_to_onehot=None,\n",
       "                                                                     max_delta_step=None,\n",
       "                                                                     max_depth=None,\n",
       "                                                                     max_leaves=None,\n",
       "                                                                     min_child_weight=None,\n",
       "                                                                     missing=nan,\n",
       "                                                                     monotone_constraints=None,\n",
       "                                                                     multi_strategy=None,\n",
       "                                                                     n_estimators=None,\n",
       "                                                                     n_jobs=None,\n",
       "                                                                     num_parallel_tree=None,\n",
       "                                                                     random_state=None, ...)))])"
      ]
     },
     "execution_count": 24,
     "metadata": {},
     "output_type": "execute_result"
    }
   ],
   "source": [
    "model6.fit(X_train, y_train)"
   ]
  },
  {
   "cell_type": "code",
   "execution_count": 25,
   "id": "45a7f3c7",
   "metadata": {},
   "outputs": [],
   "source": [
    "y_pred = model6.predict(X_test)"
   ]
  },
  {
   "cell_type": "code",
   "execution_count": 26,
   "id": "0ecf6691",
   "metadata": {},
   "outputs": [
    {
     "name": "stdout",
     "output_type": "stream",
     "text": [
      "F1 Score is :  0.741561538972695\n"
     ]
    }
   ],
   "source": [
    "f1 = f1_score(y_test, y_pred, average='weighted')  \n",
    "print(\"F1 Score is : \", f1)"
   ]
  },
  {
   "cell_type": "code",
   "execution_count": 27,
   "id": "8b5447f0",
   "metadata": {},
   "outputs": [
    {
     "name": "stdout",
     "output_type": "stream",
     "text": [
      "Accuracy Score is :  0.7569721115537849\n"
     ]
    }
   ],
   "source": [
    "print(\"Accuracy Score is : \", accuracy_score(y_test, y_pred))"
   ]
  },
  {
   "cell_type": "code",
   "execution_count": 28,
   "id": "21447d14",
   "metadata": {},
   "outputs": [
    {
     "name": "stdout",
     "output_type": "stream",
     "text": [
      "Classification Report:\n",
      "               precision    recall  f1-score   support\n",
      "\n",
      "           0       0.78      0.92      0.84      1100\n",
      "           1       0.64      0.43      0.51       387\n",
      "           2       0.75      0.58      0.66       270\n",
      "\n",
      "    accuracy                           0.76      1757\n",
      "   macro avg       0.72      0.64      0.67      1757\n",
      "weighted avg       0.75      0.76      0.74      1757\n",
      "\n"
     ]
    }
   ],
   "source": [
    "classification_rep = classification_report(y_test, y_pred)\n",
    "print(\"Classification Report:\\n\", classification_rep)"
   ]
  },
  {
   "cell_type": "code",
   "execution_count": 29,
   "id": "38bc16b2",
   "metadata": {},
   "outputs": [
    {
     "data": {
      "text/html": [
       "<div>\n",
       "<style scoped>\n",
       "    .dataframe tbody tr th:only-of-type {\n",
       "        vertical-align: middle;\n",
       "    }\n",
       "\n",
       "    .dataframe tbody tr th {\n",
       "        vertical-align: top;\n",
       "    }\n",
       "\n",
       "    .dataframe thead th {\n",
       "        text-align: right;\n",
       "    }\n",
       "</style>\n",
       "<table border=\"1\" class=\"dataframe\">\n",
       "  <thead>\n",
       "    <tr style=\"text-align: right;\">\n",
       "      <th></th>\n",
       "      <th>0</th>\n",
       "      <th>1</th>\n",
       "      <th>2</th>\n",
       "    </tr>\n",
       "  </thead>\n",
       "  <tbody>\n",
       "    <tr>\n",
       "      <th>0</th>\n",
       "      <td>1008</td>\n",
       "      <td>65</td>\n",
       "      <td>27</td>\n",
       "    </tr>\n",
       "    <tr>\n",
       "      <th>1</th>\n",
       "      <td>198</td>\n",
       "      <td>165</td>\n",
       "      <td>24</td>\n",
       "    </tr>\n",
       "    <tr>\n",
       "      <th>2</th>\n",
       "      <td>84</td>\n",
       "      <td>29</td>\n",
       "      <td>157</td>\n",
       "    </tr>\n",
       "  </tbody>\n",
       "</table>\n",
       "</div>"
      ],
      "text/plain": [
       "      0    1    2\n",
       "0  1008   65   27\n",
       "1   198  165   24\n",
       "2    84   29  157"
      ]
     },
     "execution_count": 29,
     "metadata": {},
     "output_type": "execute_result"
    }
   ],
   "source": [
    "conf_matrix = confusion_matrix(y_test, y_pred)\n",
    "pd.DataFrame(conf_matrix)"
   ]
  },
  {
   "cell_type": "markdown",
   "id": "bda6b299",
   "metadata": {},
   "source": [
    "## Applying XGBclassifier using Over-sampling with SMOTE"
   ]
  },
  {
   "cell_type": "code",
   "execution_count": null,
   "id": "0a802ca9",
   "metadata": {},
   "outputs": [],
   "source": [
    "model6 = Pipeline(steps=[\n",
    "    (\"tfidf\", TfidfVectorizer()),\n",
    "    (\"smote\", SMOTE()), \n",
    "    (\"model\", SelfTrainingClassifier(XGBClassifier()))\n",
    "])"
   ]
  },
  {
   "cell_type": "code",
   "execution_count": null,
   "id": "2aef9483",
   "metadata": {},
   "outputs": [],
   "source": [
    "model6.fit(X_train, y_train)"
   ]
  },
  {
   "cell_type": "code",
   "execution_count": null,
   "id": "1d7493c3",
   "metadata": {},
   "outputs": [],
   "source": [
    "y_pred = model6.predict(X_test)"
   ]
  },
  {
   "cell_type": "code",
   "execution_count": null,
   "id": "7bc7bdec",
   "metadata": {},
   "outputs": [],
   "source": [
    "f1 = f1_score(y_test, y_pred, average='weighted')  \n",
    "print(\"F1 Score is : \", f1)"
   ]
  },
  {
   "cell_type": "code",
   "execution_count": null,
   "id": "4ebc7819",
   "metadata": {},
   "outputs": [],
   "source": [
    "print(\"Accuracy Score is : \", accuracy_score(y_test, y_pred))"
   ]
  },
  {
   "cell_type": "code",
   "execution_count": null,
   "id": "9a017aa8",
   "metadata": {},
   "outputs": [],
   "source": [
    "classification_rep = classification_report(y_test, y_pred)\n",
    "print(\"Classification Report:\\n\", classification_rep)"
   ]
  }
 ],
 "metadata": {
  "kernelspec": {
   "display_name": "Python 3 (ipykernel)",
   "language": "python",
   "name": "python3"
  },
  "language_info": {
   "codemirror_mode": {
    "name": "ipython",
    "version": 3
   },
   "file_extension": ".py",
   "mimetype": "text/x-python",
   "name": "python",
   "nbconvert_exporter": "python",
   "pygments_lexer": "ipython3",
   "version": "3.11.5"
  }
 },
 "nbformat": 4,
 "nbformat_minor": 5
}
