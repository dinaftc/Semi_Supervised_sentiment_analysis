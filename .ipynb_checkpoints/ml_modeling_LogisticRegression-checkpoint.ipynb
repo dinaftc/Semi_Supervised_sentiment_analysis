{
 "cells": [
  {
   "cell_type": "markdown",
   "id": "767ad1bd",
   "metadata": {},
   "source": [
    "# Logistic regression"
   ]
  },
  {
   "cell_type": "code",
   "execution_count": null,
   "id": "3f804c00",
   "metadata": {},
   "outputs": [],
   "source": [
    "import pandas as pd \n",
    "import numpy as np\n",
    "from sklearn.metrics import accuracy_score, confusion_matrix, classification_report, precision_score, recall_score, f1_score\n",
    "from sklearn.semi_supervised import SelfTrainingClassifier\n",
    "from sklearn.feature_extraction.text import TfidfVectorizer\n",
    "from sklearn.model_selection import train_test_split\n",
    "#from imblearn.over_sampling import SMOTE\n",
    "from sklearn.linear_model import LogisticRegression\n",
    "from imblearn.over_sampling import SMOTE\n",
    "from imblearn.pipeline import Pipeline\n",
    "from sklearn.metrics import confusion_matrix\n",
    "import matplotlib.pyplot as plt"
   ]
  },
  {
   "cell_type": "code",
   "execution_count": null,
   "id": "249a5f85",
   "metadata": {},
   "outputs": [],
   "source": [
    "df1=pd.read_csv('df4.csv', encoding='ISO-8859-1')\n",
    "df1.head()"
   ]
  },
  {
   "cell_type": "markdown",
   "id": "9e84c4a9",
   "metadata": {},
   "source": [
    "# turn unlabled to -1 *rules of selfTrainClassifier"
   ]
  },
  {
   "cell_type": "code",
   "execution_count": null,
   "id": "fe51a7d6",
   "metadata": {},
   "outputs": [],
   "source": [
    "X = df1[\"cleaned_text\"]\n",
    "y = df1[\"sentiment\"]\n",
    "\n",
    "y[y.isna()] = -1\n",
    "print(y.isna().sum())\n"
   ]
  },
  {
   "cell_type": "code",
   "execution_count": null,
   "id": "5ce5fb6e",
   "metadata": {},
   "outputs": [],
   "source": [
    "y = y.map({\n",
    "    -1:-1,\n",
    "    \"negative\":0,\n",
    "    \"neutral\": 1,\n",
    "    \"positive\": 2\n",
    "})"
   ]
  },
  {
   "cell_type": "code",
   "execution_count": null,
   "id": "22a852d6",
   "metadata": {},
   "outputs": [],
   "source": [
    "X_labeled = X[y != -1]\n",
    "y_labeled = y[y != -1]\n",
    "\n",
    "X_unlabeled = X[y == -1]\n",
    "y_unlabeled = y[y == -1]"
   ]
  },
  {
   "cell_type": "code",
   "execution_count": null,
   "id": "baf91f93",
   "metadata": {},
   "outputs": [],
   "source": [
    "X_train,X_test,y_train,y_test = train_test_split(X_labeled,y_labeled,test_size=0.2)\n",
    "X_train = pd.concat([X_train,X_unlabeled])\n",
    "y_train = pd.concat([y_train,y_unlabeled])"
   ]
  },
  {
   "cell_type": "markdown",
   "id": "19f4a51b",
   "metadata": {},
   "source": [
    "# Applying logistic regression"
   ]
  },
  {
   "cell_type": "code",
   "execution_count": null,
   "id": "c44e9b25",
   "metadata": {},
   "outputs": [],
   "source": [
    "model1 = Pipeline(steps=[\n",
    "    (\"tfidf\", TfidfVectorizer()),\n",
    "    (\"model\", SelfTrainingClassifier(LogisticRegression(max_iter=200)))\n",
    "])"
   ]
  },
  {
   "cell_type": "code",
   "execution_count": null,
   "id": "14ccb577",
   "metadata": {},
   "outputs": [],
   "source": [
    "model1.fit(X_train, y_train)"
   ]
  },
  {
   "cell_type": "code",
   "execution_count": null,
   "id": "b11ac4ea",
   "metadata": {},
   "outputs": [],
   "source": [
    "y_pred = model1.predict(X_test)"
   ]
  },
  {
   "cell_type": "code",
   "execution_count": null,
   "id": "618215aa",
   "metadata": {},
   "outputs": [],
   "source": [
    "print(\"Accuracy of logistic regression is :\", accuracy_score(y_test, y_pred))"
   ]
  },
  {
   "cell_type": "code",
   "execution_count": null,
   "id": "b0340472",
   "metadata": {},
   "outputs": [],
   "source": [
    "f1 = f1_score(y_test, y_pred, average='weighted')"
   ]
  },
  {
   "cell_type": "code",
   "execution_count": null,
   "id": "13b202cd",
   "metadata": {},
   "outputs": [],
   "source": [
    "print(\"F1 Score of logistic regression is :\", f1)"
   ]
  },
  {
   "cell_type": "code",
   "execution_count": null,
   "id": "bbdbd009",
   "metadata": {},
   "outputs": [],
   "source": [
    "classification_rep = classification_report(y_test, y_pred)\n",
    "print(\"Classification Report:\\n\", classification_rep)"
   ]
  },
  {
   "cell_type": "code",
   "execution_count": null,
   "id": "14d0d3db",
   "metadata": {},
   "outputs": [],
   "source": [
    "conf_matrix = confusion_matrix(y_test, y_pred)\n",
    "pd.DataFrame(conf_matrix)"
   ]
  },
  {
   "cell_type": "markdown",
   "id": "c9985596",
   "metadata": {},
   "source": [
    "# Applying logistic regression using Over-sampling with SMOTE"
   ]
  },
  {
   "cell_type": "code",
   "execution_count": null,
   "id": "4bdbe030",
   "metadata": {},
   "outputs": [],
   "source": [
    "model1 = Pipeline(steps=[\n",
    "    (\"tfidf\", TfidfVectorizer()),  \n",
    "    (\"smote\", SMOTE()),  \n",
    "    (\"model\", SelfTrainingClassifier(LogisticRegression(max_iter=200)))  \n",
    "])"
   ]
  },
  {
   "cell_type": "code",
   "execution_count": null,
   "id": "69776ef9",
   "metadata": {},
   "outputs": [],
   "source": [
    "model1.fit(X_train, y_train)"
   ]
  },
  {
   "cell_type": "code",
   "execution_count": null,
   "id": "52738776",
   "metadata": {},
   "outputs": [],
   "source": [
    "y_pred = model1.predict(X_test)"
   ]
  },
  {
   "cell_type": "code",
   "execution_count": null,
   "id": "9febbc2d",
   "metadata": {},
   "outputs": [],
   "source": [
    "f1 = f1_score(y_test, y_pred, average='weighted')\n",
    "print(\"F1 Score is : \", f1)"
   ]
  },
  {
   "cell_type": "code",
   "execution_count": null,
   "id": "25b6faf4",
   "metadata": {},
   "outputs": [],
   "source": [
    "print(\"Accuracy is : \", accuracy_score(y_test, y_pred))"
   ]
  },
  {
   "cell_type": "code",
   "execution_count": null,
   "id": "b845d2a2",
   "metadata": {},
   "outputs": [],
   "source": [
    "classification_rep = classification_report(y_test, y_pred)\n",
    "print(\"Classification Report:\\n\", classification_rep)"
   ]
  },
  {
   "cell_type": "code",
   "execution_count": null,
   "id": "d079cb9e",
   "metadata": {},
   "outputs": [],
   "source": [
    "conf_matrix = confusion_matrix(y_test, y_pred)\n",
    "pd.DataFrame(conf_matrix)"
   ]
  },
  {
   "cell_type": "code",
   "execution_count": null,
   "id": "1a03528e",
   "metadata": {},
   "outputs": [],
   "source": [
    "joblib.dump(model1, 'BestModel.joblib')"
   ]
  }
 ],
 "metadata": {
  "kernelspec": {
   "display_name": "Python 3 (ipykernel)",
   "language": "python",
   "name": "python3"
  },
  "language_info": {
   "codemirror_mode": {
    "name": "ipython",
    "version": 3
   },
   "file_extension": ".py",
   "mimetype": "text/x-python",
   "name": "python",
   "nbconvert_exporter": "python",
   "pygments_lexer": "ipython3",
   "version": "3.11.5"
  }
 },
 "nbformat": 4,
 "nbformat_minor": 5
}
