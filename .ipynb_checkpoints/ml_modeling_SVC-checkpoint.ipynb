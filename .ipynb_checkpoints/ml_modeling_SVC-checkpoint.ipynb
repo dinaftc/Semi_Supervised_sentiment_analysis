{
 "cells": [
  {
   "cell_type": "markdown",
   "id": "c22aa30e",
   "metadata": {},
   "source": [
    "# SVC"
   ]
  },
  {
   "cell_type": "code",
   "execution_count": 1,
   "id": "4d43652c",
   "metadata": {},
   "outputs": [],
   "source": [
    "from sklearn.svm import SVC\n",
    "#from imblearn.over_sampling import SMOTE\n",
    "import pandas as pd \n",
    "import numpy as np\n",
    "from sklearn.metrics import accuracy_score, confusion_matrix, classification_report, precision_score, recall_score, f1_score\n",
    "from sklearn.semi_supervised import SelfTrainingClassifier\n",
    "from sklearn.feature_extraction.text import TfidfVectorizer\n",
    "from sklearn.model_selection import train_test_split\n",
    "from sklearn.pipeline import Pipeline\n",
    "from sklearn.metrics import confusion_matrix\n",
    "import matplotlib.pyplot as plt"
   ]
  },
  {
   "cell_type": "code",
   "execution_count": 2,
   "id": "f22d9fac",
   "metadata": {},
   "outputs": [
    {
     "data": {
      "text/html": [
       "<div>\n",
       "<style scoped>\n",
       "    .dataframe tbody tr th:only-of-type {\n",
       "        vertical-align: middle;\n",
       "    }\n",
       "\n",
       "    .dataframe tbody tr th {\n",
       "        vertical-align: top;\n",
       "    }\n",
       "\n",
       "    .dataframe thead th {\n",
       "        text-align: right;\n",
       "    }\n",
       "</style>\n",
       "<table border=\"1\" class=\"dataframe\">\n",
       "  <thead>\n",
       "    <tr style=\"text-align: right;\">\n",
       "      <th></th>\n",
       "      <th>cleaned_text</th>\n",
       "      <th>sentiment</th>\n",
       "    </tr>\n",
       "  </thead>\n",
       "  <tbody>\n",
       "    <tr>\n",
       "      <th>0</th>\n",
       "      <td>what said</td>\n",
       "      <td>neutral</td>\n",
       "    </tr>\n",
       "    <tr>\n",
       "      <th>1</th>\n",
       "      <td>plus youve added commercials to the experience...</td>\n",
       "      <td>NaN</td>\n",
       "    </tr>\n",
       "    <tr>\n",
       "      <th>2</th>\n",
       "      <td>i didnt today must mean i need to take another...</td>\n",
       "      <td>neutral</td>\n",
       "    </tr>\n",
       "    <tr>\n",
       "      <th>3</th>\n",
       "      <td>its really aggressive to blast obnoxious enter...</td>\n",
       "      <td>NaN</td>\n",
       "    </tr>\n",
       "    <tr>\n",
       "      <th>4</th>\n",
       "      <td>and its a really big bad thing about it</td>\n",
       "      <td>negative</td>\n",
       "    </tr>\n",
       "  </tbody>\n",
       "</table>\n",
       "</div>"
      ],
      "text/plain": [
       "                                        cleaned_text sentiment\n",
       "0                                          what said   neutral\n",
       "1  plus youve added commercials to the experience...       NaN\n",
       "2  i didnt today must mean i need to take another...   neutral\n",
       "3  its really aggressive to blast obnoxious enter...       NaN\n",
       "4            and its a really big bad thing about it  negative"
      ]
     },
     "execution_count": 2,
     "metadata": {},
     "output_type": "execute_result"
    }
   ],
   "source": [
    "df1=pd.read_csv('C:/Users/Pc Bridge/Downloads/df4.csv', encoding='ISO-8859-1')\n",
    "df1.head()"
   ]
  },
  {
   "cell_type": "markdown",
   "id": "349d8fb9",
   "metadata": {},
   "source": [
    "## turn unlabled to -1 *rules of selfTrainClassifier"
   ]
  },
  {
   "cell_type": "code",
   "execution_count": 3,
   "id": "b10e167b",
   "metadata": {},
   "outputs": [
    {
     "name": "stdout",
     "output_type": "stream",
     "text": [
      "0\n"
     ]
    }
   ],
   "source": [
    "X = df1[\"cleaned_text\"]\n",
    "y = df1[\"sentiment\"]\n",
    "\n",
    "y[y.isna()] = -1\n",
    "print(y.isna().sum())"
   ]
  },
  {
   "cell_type": "code",
   "execution_count": 4,
   "id": "505f67b7",
   "metadata": {},
   "outputs": [],
   "source": [
    "y = y.map({\n",
    "    -1:-1,\n",
    "    \"negative\":0,\n",
    "    \"neutral\": 1,\n",
    "    \"positive\": 2\n",
    "})"
   ]
  },
  {
   "cell_type": "code",
   "execution_count": 5,
   "id": "fd8ea1ce",
   "metadata": {},
   "outputs": [],
   "source": [
    "X_labeled = X[y != -1]\n",
    "y_labeled = y[y != -1]\n",
    "\n",
    "X_unlabeled = X[y == -1]\n",
    "y_unlabeled = y[y == -1]"
   ]
  },
  {
   "cell_type": "code",
   "execution_count": 6,
   "id": "daaa8d14",
   "metadata": {},
   "outputs": [],
   "source": [
    "X_train,X_test,y_train,y_test = train_test_split(X_labeled,y_labeled,test_size=0.2)\n",
    "X_train = pd.concat([X_train,X_unlabeled])\n",
    "y_train = pd.concat([y_train,y_unlabeled])"
   ]
  },
  {
   "cell_type": "markdown",
   "id": "ae63bfd5",
   "metadata": {},
   "source": [
    "## Applying SVC"
   ]
  },
  {
   "cell_type": "code",
   "execution_count": 7,
   "id": "5d5f21ae",
   "metadata": {},
   "outputs": [],
   "source": [
    "model8 = Pipeline(steps=[\n",
    "    (\"tfidf\", TfidfVectorizer()),\n",
    "    (\"model\", SelfTrainingClassifier(SVC(kernel='linear', probability=True)))  # Set probability=True\n",
    "])"
   ]
  },
  {
   "cell_type": "code",
   "execution_count": null,
   "id": "01368eb5",
   "metadata": {},
   "outputs": [],
   "source": [
    "model8.fit(X_train, y_train)"
   ]
  },
  {
   "cell_type": "code",
   "execution_count": null,
   "id": "9172f647",
   "metadata": {},
   "outputs": [],
   "source": [
    "y_pred = model8.predict(X_test)"
   ]
  },
  {
   "cell_type": "code",
   "execution_count": null,
   "id": "87670b94",
   "metadata": {},
   "outputs": [],
   "source": [
    "# Compute F1 score\n",
    "f1 = f1_score(y_test, y_pred, average='weighted')  # You can change the average parameter based on your needs\n",
    "print(\"F1 Score is : \", f1)"
   ]
  },
  {
   "cell_type": "code",
   "execution_count": null,
   "id": "45f80e41",
   "metadata": {},
   "outputs": [],
   "source": [
    "# Print the accuracy score\n",
    "print(\"Accuracy Score is : \", accuracy_score(y_test, y_pred))"
   ]
  },
  {
   "cell_type": "code",
   "execution_count": null,
   "id": "d1b9de2d",
   "metadata": {},
   "outputs": [],
   "source": [
    "# Print the classification report\n",
    "classification_rep = classification_report(y_test, y_pred)\n",
    "print(\"Classification Report:\\n\", classification_rep)"
   ]
  },
  {
   "cell_type": "markdown",
   "id": "17604214",
   "metadata": {},
   "source": [
    "## Applying SVC using Over-sampling with SMOTE"
   ]
  },
  {
   "cell_type": "code",
   "execution_count": null,
   "id": "ab973070",
   "metadata": {},
   "outputs": [],
   "source": [
    "model = Pipeline(steps=[\n",
    "    (\"tfidf\", TfidfVectorizer()),\n",
    "    (\"smote\", SMOTE()), \n",
    "    (\"model\", SelfTrainingClassifier(SVC(kernel='linear', probability=True)))  # Set probability=True\n",
    "])"
   ]
  },
  {
   "cell_type": "code",
   "execution_count": null,
   "id": "755dec64",
   "metadata": {},
   "outputs": [],
   "source": [
    "model.fit(X_train, y_train)"
   ]
  },
  {
   "cell_type": "code",
   "execution_count": null,
   "id": "489691b7",
   "metadata": {},
   "outputs": [],
   "source": [
    "y_pred = model.predict(X_test)"
   ]
  },
  {
   "cell_type": "code",
   "execution_count": null,
   "id": "469c8b92",
   "metadata": {},
   "outputs": [],
   "source": [
    "# Compute F1 score\n",
    "f1 = f1_score(y_test, y_pred, average='weighted')  # You can change the average parameter based on your needs\n",
    "print(\"F1 Score is : \", f1)"
   ]
  },
  {
   "cell_type": "code",
   "execution_count": null,
   "id": "c12cb73c",
   "metadata": {},
   "outputs": [],
   "source": [
    "# Print the accuracy score\n",
    "print(\"Accuracy Score is : \", accuracy_score(y_test, y_pred))"
   ]
  },
  {
   "cell_type": "code",
   "execution_count": null,
   "id": "9696a3aa",
   "metadata": {},
   "outputs": [],
   "source": [
    "# Print the classification report\n",
    "classification_rep = classification_report(y_test, y_pred)\n",
    "print(\"Classification Report:\\n\", classification_rep)"
   ]
  }
 ],
 "metadata": {
  "kernelspec": {
   "display_name": "Python 3 (ipykernel)",
   "language": "python",
   "name": "python3"
  },
  "language_info": {
   "codemirror_mode": {
    "name": "ipython",
    "version": 3
   },
   "file_extension": ".py",
   "mimetype": "text/x-python",
   "name": "python",
   "nbconvert_exporter": "python",
   "pygments_lexer": "ipython3",
   "version": "3.11.5"
  }
 },
 "nbformat": 4,
 "nbformat_minor": 5
}
